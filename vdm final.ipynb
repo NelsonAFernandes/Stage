{
 "cells": [
  {
   "cell_type": "code",
   "execution_count": 1,
   "metadata": {},
   "outputs": [],
   "source": [
    "import ee\n",
    "import geemap\n",
    "import os\n",
    "import csv\n",
    "import pandas as pd\n",
    "import math"
   ]
  },
  {
   "cell_type": "code",
   "execution_count": 2,
   "metadata": {},
   "outputs": [
    {
     "data": {
      "application/vnd.jupyter.widget-view+json": {
       "model_id": "08ba05643bad40a1ad79b8c43c6308a0",
       "version_major": 2,
       "version_minor": 0
      },
      "text/plain": [
       "Map(center=[40, -100], controls=(WidgetControl(options=['position'], widget=HBox(children=(ToggleButton(value=…"
      ]
     },
     "metadata": {},
     "output_type": "display_data"
    }
   ],
   "source": [
    "Map = geemap.Map()\n",
    "Map"
   ]
  },
  {
   "cell_type": "code",
   "execution_count": null,
   "metadata": {},
   "outputs": [],
   "source": [
    "def getNDVI(img):\n",
    "    NDVI = img.normalizedDifference(['B8','B4']).rename(\"NDVI\")\n",
    "    return img.addBands(NDVI)\n",
    "\n",
    "\n",
    "# collection d'image\n",
    "S2_1c = ee.ImageCollection(\"COPERNICUS/S2\").map(getNDVI)\n",
    "\n",
    "S2_2a = ee.ImageCollection(\"COPERNICUS/S2_SR\").map(getNDVI)\n",
    "\n",
    "MODIS = ee.ImageCollection(\"MODIS/006/MOD13Q1\").select('NDVI')\n",
    "\n",
    "L5 = ee.ImageCollection('LANDSAT/LT05/C01/T1_8DAY_NDVI').select('NDVI')\n",
    "\n",
    "L7 = ee.ImageCollection('LANDSAT/LE07/C01/T1_8DAY_NDVI').select('NDVI')\n",
    "\n",
    "L8 = ee.ImageCollection('LANDSAT/LC08/C01/T1_8DAY_NDVI').select('NDVI')\n",
    "\n",
    "sat = [S2_1c,S2_2a,MODIS,L5,L7,L8]\n",
    "nsat = ['S2_1c','S2_2a','MODIS','L5','L7','L8']"
   ]
  },
  {
   "cell_type": "code",
   "execution_count": null,
   "metadata": {},
   "outputs": [],
   "source": [
    "table = ee.FeatureCollection(\"users/NelsonFernandes/VDC_NLSS3_corWGS84\")"
   ]
  },
  {
   "cell_type": "code",
   "execution_count": null,
   "metadata": {},
   "outputs": [],
   "source": [
    "taille = table.size()\n",
    "t1 = table.size().getInfo()\n",
    "liste = table.toList(taille).getInfo()\n",
    "bb = ee.List(table.aggregate_array('DDVVVCBS11')).getInfo()"
   ]
  },
  {
   "cell_type": "code",
   "execution_count": null,
   "metadata": {},
   "outputs": [],
   "source": [
    "stat = ['mean', 'minimum', 'quart', 'mediane', 'tquart', 'maximum']"
   ]
  },
  {
   "cell_type": "code",
   "execution_count": null,
   "metadata": {},
   "outputs": [],
   "source": [
    "t2 = len(sat)\n",
    "t3 = len(stat)\n",
    "t4 = t1*t2*t3\n",
    "t4"
   ]
  },
  {
   "cell_type": "code",
   "execution_count": null,
   "metadata": {},
   "outputs": [],
   "source": [
    "def coupe (image):\n",
    "    return image.clip(polygone.geometry())\n",
    "\n",
    "\n",
    "def pixel_count (image):\n",
    "    a = image.reduceRegion(\n",
    "        reducer = ee.Reducer.count(),\n",
    "        geometry = polygone.geometry(),\n",
    "        scale = 30,\n",
    "    )\n",
    "    return ee.Image(image.setMulti(a))\n",
    "\n",
    "\n",
    "def percentage (image):\n",
    "    qa = image.select('QA60')\n",
    "                # Bits 10 et 11 sont les nuages et les cirrus\n",
    "    cloudBitMask = int(2**10)\n",
    "    cirrusBitMask = int(2**11)\n",
    "\n",
    "                # on sélectionne les pixels ayant un nuage\n",
    "    masked = qa.bitwiseAnd(cloudBitMask).eq(0).And(\\\n",
    "                qa.bitwiseAnd(cirrusBitMask).eq(0))\n",
    "\n",
    "    mask = image.updateMask(masked).divide(10000)\n",
    "  \n",
    "                # calcule du nombre de pixels avec et sans le masque de nuage\n",
    "    a = mask.reduceRegion(reducer= ee.Reducer.count(),geometry= polygone.geometry())\n",
    "    \n",
    "    s = image.reduceRegion(reducer= ee.Reducer.count(),geometry= polygone.geometry())\n",
    "  \n",
    "                # calcule du pourcentage de nuage\n",
    "    numa = a.getNumber('B1')\n",
    "    nums = s.getNumber('B1')\n",
    "    per = (nums.subtract(numa)).divide(nums).multiply(100)\n",
    "  \n",
    "                # ajout du pourcentage à la collection de base\n",
    "    return image.set('CLOUD_PERCENTAGE_CLIP',per)"
   ]
  },
  {
   "cell_type": "code",
   "execution_count": null,
   "metadata": {},
   "outputs": [],
   "source": [
    "# définition des statistiques\n",
    "\n",
    "def mean (image):\n",
    "    dic = image.reduceRegion(reducer = ee.Reducer.mean(),geometry= polygone.geometry(),scale= pixel)\n",
    "    return ee.Image(image.setMulti(dic))\n",
    "\n",
    "def minimum (image):\n",
    "    dic = image.reduceRegion(reducer = ee.Reducer.min(),geometry= polygone.geometry(),scale= pixel)\n",
    "    return ee.Image(image.setMulti(dic))\n",
    "\n",
    "def quart (image):\n",
    "    dic = image.reduceRegion(reducer = ee.Reducer.percentile([25]), geometry= polygone.geometry(),scale= pixel)\n",
    "    return ee.Image(image.setMulti(dic))\n",
    "\n",
    "def mediane (image):\n",
    "    dic = image.reduceRegion(reducer = ee.Reducer.median(), geometry= polygone.geometry(),scale= pixel)\n",
    "    return ee.Image(image.setMulti(dic))\n",
    "\n",
    "def tquart (image):\n",
    "    dic = image.reduceRegion(reducer = ee.Reducer.percentile([75]), geometry= polygone.geometry(),scale= pixel)\n",
    "    return ee.Image(image.setMulti(dic))\n",
    "\n",
    "def maximum (image):\n",
    "    dic = image.reduceRegion(reducer = ee.Reducer.max(),geometry= polygone.geometry(),scale= pixel)\n",
    "    return ee.Image(image.setMulti(dic))\n"
   ]
  },
  {
   "cell_type": "code",
   "execution_count": null,
   "metadata": {},
   "outputs": [],
   "source": [
    "a=0\n",
    "z=0\n",
    "for i in liste:\n",
    "    b=0\n",
    "    polygone = ee.Feature(liste[a])\n",
    "    namepoly = str(bb[a])\n",
    "    \n",
    "    for j in sat:\n",
    "        collec = sat[b]\n",
    "        namesat = str(nsat[b])\n",
    "        c = 0\n",
    "        \n",
    "        if namesat == 'L5' or namesat == 'L7' or namesat == 'L8':\n",
    "            \n",
    "            precollection = collec.map(coupe).map(pixel_count)\n",
    "            st = precollection.aggregate_max('NDVI')\n",
    "            collection = precollection.filter(ee.Filter.eq('NDVI', st))\n",
    "            pixel = 30\n",
    "        \n",
    "        elif namesat == 'S2_1c' or namesat == 'S2_2a':\n",
    "            \n",
    "            precollection = collec.filterBounds(polygone.geometry()).map(coupe).map(percentage).filter(ee.Filter.lt('CLOUD_PERCENTAGE_CLIP', 20))\n",
    "            collection = precollection.select('NDVI')\n",
    "            pixel = 10\n",
    "        \n",
    "        else:\n",
    "            #cas Modis\n",
    "            collection = collec.map(coupe)\n",
    "            pixel = 250\n",
    "            \n",
    "        for y in stat:\n",
    "            \n",
    "            namestat = str(stat[c])\n",
    "            parent = \"C:/Users/nelsf/Documents/Master/VDM\"\n",
    "            path = os.path.join(parent, namepoly, namesat, namestat)\n",
    "            \n",
    "            try: \n",
    "                os.makedirs(path, exist_ok = True)  \n",
    "            except OSError as error: \n",
    "                print(\"error\")\n",
    "            \n",
    "            os.chdir(path)\n",
    "            \n",
    "            if namestat == 'mean':\n",
    "                imageCollection = collection.map(mean)\n",
    "            \n",
    "            elif namestat == 'minimum':\n",
    "                imageCollection = collection.map(minimum)\n",
    "            \n",
    "            elif namestat == 'quart':\n",
    "                imageCollection = collection.map(quart)\n",
    "            \n",
    "            elif namestat == 'mediane':\n",
    "                imageCollection = collection.map(mediane)\n",
    "            \n",
    "            elif namestat == 'tquart':\n",
    "                imageCollection = collection.map(tquart)\n",
    "            \n",
    "            else:\n",
    "                # cas namestat = 'max'\n",
    "                imageCollection = collection.map(maximum)\n",
    "            \n",
    "            ndvi1 = ee.List(imageCollection.aggregate_array('NDVI')).getInfo()\n",
    "            date1 = ee.List(imageCollection.aggregate_array('system:index')).getInfo()\n",
    "            ndvi = ['NDVI'] + ndvi1\n",
    "            date = ['DATE'] + date1\n",
    "            \n",
    "            dico = [date,ndvi]\n",
    "            tab = [list(i) for i in zip(*dico)]\n",
    "            \n",
    "            fichier = namepoly + '_' + namesat + '_' + namestat +'.csv'\n",
    "            \n",
    "            df = pd.DataFrame(tab)\n",
    "            df.to_csv(fichier,index=False, header=False)\n",
    "            \n",
    "            c += 1\n",
    "            z += 1\n",
    "            print(z/t4)\n",
    "        b += 1\n",
    "    a += 1"
   ]
  },
  {
   "cell_type": "code",
   "execution_count": null,
   "metadata": {},
   "outputs": [],
   "source": []
  }
 ],
 "metadata": {
  "kernelspec": {
   "display_name": "Python 3",
   "language": "python",
   "name": "python3"
  },
  "language_info": {
   "codemirror_mode": {
    "name": "ipython",
    "version": 3
   },
   "file_extension": ".py",
   "mimetype": "text/x-python",
   "name": "python",
   "nbconvert_exporter": "python",
   "pygments_lexer": "ipython3",
   "version": "3.6.10"
  }
 },
 "nbformat": 4,
 "nbformat_minor": 4
}
